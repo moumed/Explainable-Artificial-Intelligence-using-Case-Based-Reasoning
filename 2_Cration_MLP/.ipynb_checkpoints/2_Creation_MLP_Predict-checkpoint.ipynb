{
 "cells": [
  {
   "cell_type": "markdown",
   "metadata": {},
   "source": [
    "# Importation de bibliothèques"
   ]
  },
  {
   "cell_type": "code",
   "execution_count": 7,
   "metadata": {},
   "outputs": [],
   "source": [
    "from keras.models import Sequential\n",
    "from keras.layers import Dense, Dropout, Flatten\n",
    "import joblib\n",
    "from pathlib import Path\n",
    "import numpy as np\n",
    "from sklearn.metrics import plot_confusion_matrix\n",
    "import matplotlib.pyplot as plt\n",
    "%matplotlib inline"
   ]
  },
  {
   "cell_type": "markdown",
   "metadata": {},
   "source": [
    "# Chargement de Caractéristiques "
   ]
  },
  {
   "cell_type": "code",
   "execution_count": 2,
   "metadata": {},
   "outputs": [],
   "source": [
    "# Chargement du Dataset\n",
    "x_features_train = joblib.load(\"../1_Extraction_de_Carct/x_features_train.dat\")\n",
    "y_train = joblib.load(\"../1_Extraction_de_Carct/y_train.dat\")\n",
    "x_features_test = joblib.load(\"../1_Extraction_de_Carct/x_features_test.dat\")\n",
    "y_test = joblib.load(\"../1_Extraction_de_Carct/y_test.dat\")"
   ]
  },
  {
   "cell_type": "markdown",
   "metadata": {},
   "source": [
    "# Création du MLP\n"
   ]
  },
  {
   "cell_type": "code",
   "execution_count": 3,
   "metadata": {},
   "outputs": [
    {
     "name": "stdout",
     "output_type": "stream",
     "text": [
      "Model: \"sequential\"\n",
      "_________________________________________________________________\n",
      "Layer (type)                 Output Shape              Param #   \n",
      "=================================================================\n",
      "flatten (Flatten)            (None, 512)               0         \n",
      "_________________________________________________________________\n",
      "dense (Dense)                (None, 512)               262656    \n",
      "_________________________________________________________________\n",
      "dropout (Dropout)            (None, 512)               0         \n",
      "_________________________________________________________________\n",
      "dense_1 (Dense)              (None, 10)                5130      \n",
      "=================================================================\n",
      "Total params: 267,786\n",
      "Trainable params: 267,786\n",
      "Non-trainable params: 0\n",
      "_________________________________________________________________\n"
     ]
    }
   ],
   "source": [
    "#Création du model séquentiel\n",
    "mlp = Sequential()\n",
    "#Création des couches du modèle \n",
    "mlp.add(Flatten(input_shape = x_features_train.shape[1:]))\n",
    "mlp.add(Dense(512,activation='relu'))\n",
    "mlp.add(Dropout(0.2)) #perturber un peu le graphe pour forcer l’entraînement \n",
    "mlp.add(Dense(10,activation='softmax'))\n",
    "#Compilation du modèle\n",
    "mlp.compile(optimizer='adam',loss='categorical_crossentropy',metrics=['accuracy'])\n",
    "mlp.summary()"
   ]
  },
  {
   "cell_type": "markdown",
   "metadata": {},
   "source": [
    "# Entrainement du MLP"
   ]
  },
  {
   "cell_type": "code",
   "execution_count": 4,
   "metadata": {},
   "outputs": [
    {
     "name": "stdout",
     "output_type": "stream",
     "text": [
      "Epoch 1/30\n",
      "60/60 [==============================] - 3s 58ms/step - loss: 4.9048 - accuracy: 0.4856 - val_loss: 1.8737 - val_accuracy: 0.5857\n",
      "Epoch 2/30\n",
      "60/60 [==============================] - 3s 53ms/step - loss: 1.6621 - accuracy: 0.5752 - val_loss: 1.3360 - val_accuracy: 0.6035\n",
      "Epoch 3/30\n",
      "60/60 [==============================] - 3s 53ms/step - loss: 1.1681 - accuracy: 0.6302 - val_loss: 1.1964 - val_accuracy: 0.6217\n",
      "Epoch 4/30\n",
      "60/60 [==============================] - 3s 53ms/step - loss: 0.9779 - accuracy: 0.6717 - val_loss: 1.1457 - val_accuracy: 0.6381\n",
      "Epoch 5/30\n",
      "60/60 [==============================] - 3s 53ms/step - loss: 0.8544 - accuracy: 0.7063 - val_loss: 1.1286 - val_accuracy: 0.6453\n",
      "Epoch 6/30\n",
      "60/60 [==============================] - 3s 54ms/step - loss: 0.7653 - accuracy: 0.7331 - val_loss: 1.1082 - val_accuracy: 0.6517\n",
      "Epoch 7/30\n",
      "60/60 [==============================] - 3s 51ms/step - loss: 0.6925 - accuracy: 0.7572 - val_loss: 1.0999 - val_accuracy: 0.6528\n",
      "Epoch 8/30\n",
      "60/60 [==============================] - 3s 51ms/step - loss: 0.6348 - accuracy: 0.7777 - val_loss: 1.0980 - val_accuracy: 0.6594\n",
      "Epoch 9/30\n",
      "60/60 [==============================] - 3s 51ms/step - loss: 0.5834 - accuracy: 0.7948 - val_loss: 1.1045 - val_accuracy: 0.6594\n",
      "Epoch 10/30\n",
      "60/60 [==============================] - 3s 51ms/step - loss: 0.5358 - accuracy: 0.8127 - val_loss: 1.1173 - val_accuracy: 0.6613\n",
      "Epoch 11/30\n",
      "60/60 [==============================] - 3s 51ms/step - loss: 0.5022 - accuracy: 0.8253 - val_loss: 1.1288 - val_accuracy: 0.6647\n",
      "Epoch 12/30\n",
      "60/60 [==============================] - 3s 52ms/step - loss: 0.4629 - accuracy: 0.8377 - val_loss: 1.1374 - val_accuracy: 0.6661\n",
      "Epoch 13/30\n",
      "60/60 [==============================] - 3s 52ms/step - loss: 0.4271 - accuracy: 0.8508 - val_loss: 1.1570 - val_accuracy: 0.6655\n",
      "Epoch 14/30\n",
      "60/60 [==============================] - 3s 52ms/step - loss: 0.3970 - accuracy: 0.8619 - val_loss: 1.1761 - val_accuracy: 0.6639\n",
      "Epoch 15/30\n",
      "60/60 [==============================] - 3s 52ms/step - loss: 0.3700 - accuracy: 0.8726 - val_loss: 1.1900 - val_accuracy: 0.6644\n",
      "Epoch 16/30\n",
      "60/60 [==============================] - 3s 52ms/step - loss: 0.3450 - accuracy: 0.8804 - val_loss: 1.2110 - val_accuracy: 0.6671\n",
      "Epoch 17/30\n",
      "60/60 [==============================] - 3s 53ms/step - loss: 0.3235 - accuracy: 0.8891 - val_loss: 1.2263 - val_accuracy: 0.6638\n",
      "Epoch 18/30\n",
      "60/60 [==============================] - 3s 52ms/step - loss: 0.3014 - accuracy: 0.8992 - val_loss: 1.2604 - val_accuracy: 0.6593\n",
      "Epoch 19/30\n",
      "60/60 [==============================] - 3s 51ms/step - loss: 0.2787 - accuracy: 0.9049 - val_loss: 1.2934 - val_accuracy: 0.6663\n",
      "Epoch 20/30\n",
      "60/60 [==============================] - 3s 52ms/step - loss: 0.2636 - accuracy: 0.9113 - val_loss: 1.3099 - val_accuracy: 0.6670\n",
      "Epoch 21/30\n",
      "60/60 [==============================] - 3s 52ms/step - loss: 0.2478 - accuracy: 0.9175 - val_loss: 1.3242 - val_accuracy: 0.6654\n",
      "Epoch 22/30\n",
      "60/60 [==============================] - 3s 52ms/step - loss: 0.2375 - accuracy: 0.9209 - val_loss: 1.3576 - val_accuracy: 0.6658\n",
      "Epoch 23/30\n",
      "60/60 [==============================] - 3s 52ms/step - loss: 0.2241 - accuracy: 0.9256 - val_loss: 1.3702 - val_accuracy: 0.6660\n",
      "Epoch 24/30\n",
      "60/60 [==============================] - 3s 51ms/step - loss: 0.2090 - accuracy: 0.9333 - val_loss: 1.3950 - val_accuracy: 0.6675\n",
      "Epoch 25/30\n",
      "60/60 [==============================] - 3s 52ms/step - loss: 0.1976 - accuracy: 0.9349 - val_loss: 1.4352 - val_accuracy: 0.6654\n",
      "Epoch 26/30\n",
      "60/60 [==============================] - 3s 53ms/step - loss: 0.1915 - accuracy: 0.9374 - val_loss: 1.4547 - val_accuracy: 0.6621\n",
      "Epoch 27/30\n",
      "60/60 [==============================] - 3s 52ms/step - loss: 0.1781 - accuracy: 0.9431 - val_loss: 1.4645 - val_accuracy: 0.6637\n",
      "Epoch 28/30\n",
      "60/60 [==============================] - 3s 51ms/step - loss: 0.1700 - accuracy: 0.9449 - val_loss: 1.4932 - val_accuracy: 0.6660\n",
      "Epoch 29/30\n",
      "60/60 [==============================] - 3s 51ms/step - loss: 0.1596 - accuracy: 0.9491 - val_loss: 1.5218 - val_accuracy: 0.6645\n",
      "Epoch 30/30\n",
      "60/60 [==============================] - 3s 51ms/step - loss: 0.1562 - accuracy: 0.9496 - val_loss: 1.5335 - val_accuracy: 0.6642\n"
     ]
    }
   ],
   "source": [
    "mlp_history = mlp.fit(x_features_train,y_train,\n",
    "                            epochs=30,\n",
    "                             validation_data=(x_features_test,y_test),\n",
    "                             shuffle=True,\n",
    "                             validation_steps=2000,\n",
    "                             steps_per_epoch=60)"
   ]
  },
  {
   "cell_type": "markdown",
   "metadata": {},
   "source": [
    "# Évaluation du modèle"
   ]
  },
  {
   "cell_type": "code",
   "execution_count": 5,
   "metadata": {},
   "outputs": [
    {
     "data": {
      "image/png": "[encoded data removed]",
      "text/plain": [
       "<Figure size 432x288 with 1 Axes>"
      ]
     },
     "metadata": {
      "needs_background": "light"
     },
     "output_type": "display_data"
    },
    {
     "data": {
      "image/png": "[encoded data removed]",
      "text/plain": [
       "<Figure size 432x288 with 1 Axes>"
      ]
     },
     "metadata": {
      "needs_background": "light"
     },
     "output_type": "display_data"
    }
   ],
   "source": [
    "def affiche_evolution_apprentissage(history):\n",
    "    #affiche history.history.keys()\n",
    "    plt.plot(history.history['accuracy'])\n",
    "    plt.plot(history.history['val_accuracy'])\n",
    "    plt.title('Précision du modèle')\n",
    "    plt.ylabel('accuracy')\n",
    "    plt.xlabel('epoch')\n",
    "    plt.legend(['données apprentissage', 'données test'], loc='upper left')\n",
    "    plt.show()\n",
    "    # résumé de l'historique pour loss\n",
    "    plt.plot(history.history['loss'])\n",
    "    plt.plot(history.history['val_loss'])\n",
    "    plt.title('Erreur du modèle')\n",
    "    plt.ylabel('loss')\n",
    "    plt.xlabel('epoch')\n",
    "    plt.legend(['apprentissage', 'test'], loc='upper right')\n",
    "    plt.show()\n",
    "    \n",
    "affiche_evolution_apprentissage(mlp_history)"
   ]
  },
  {
   "cell_type": "markdown",
   "metadata": {},
   "source": [
    "* Nous voyons ici les courbes des résultats d'apprentissage de notre MLP. La précision augmente à chaque itération pour atteindre un seuil maximal de 94%.\n",
    "\n",
    "* La courbe d'erreur diminue pour atteindre un seuil bas de 0.15."
   ]
  },
  {
   "cell_type": "markdown",
   "metadata": {},
   "source": [
    "# Enregistrement du modèle\n"
   ]
  },
  {
   "cell_type": "code",
   "execution_count": 12,
   "metadata": {},
   "outputs": [],
   "source": [
    "# Enregistrer la structure du réseau\n",
    "model_structure = mlp.to_json()\n",
    "f = Path(\"mlp_structure.json\")\n",
    "f.write_text(model_structure)\n",
    "\n",
    "# Sauvegarde des poids appris par le réseau\n",
    "mlp.save_weights(\"mlp_weights.h5\")\n"
   ]
  }
 ],
 "metadata": {
  "environment": {
   "name": "common-cpu.m49",
   "type": "gcloud",
   "uri": "gcr.io/deeplearning-platform-release/base-cpu:m49"
  },
  "kernelspec": {
   "display_name": "Python 3",
   "language": "python",
   "name": "python3"
  },
  "language_info": {
   "codemirror_mode": {
    "name": "ipython",
    "version": 3
   },
   "file_extension": ".py",
   "mimetype": "text/x-python",
   "name": "python",
   "nbconvert_exporter": "python",
   "pygments_lexer": "ipython3",
   "version": "3.6.12"
  }
 },
 "nbformat": 4,
 "nbformat_minor": 4
}
