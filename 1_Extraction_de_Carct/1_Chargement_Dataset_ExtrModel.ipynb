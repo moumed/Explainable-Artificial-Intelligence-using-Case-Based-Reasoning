{
 "cells": [
  {
   "cell_type": "markdown",
   "metadata": {},
   "source": [
    "# Préparation des données\n",
    "Nous allons ici charger notre Dataset Cifar_10, sur lequel nous allons travailler, ainsi que notre modele d'extraction de caractéristiques et effectuer l'extraction de caractéristiques."
   ]
  },
  {
   "cell_type": "markdown",
   "metadata": {},
   "source": [
    "## Importation des bibliothèques "
   ]
  },
  {
   "cell_type": "code",
   "execution_count": 15,
   "metadata": {},
   "outputs": [],
   "source": [
    "import keras\n",
    "from keras.datasets import cifar10\n",
    "from keras.utils import to_categorical\n",
    "from keras_preprocessing import image\n",
    "from keras.applications import vgg16\n",
    "import joblib\n",
    "import matplotlib.pyplot as plt\n",
    "from pathlib import Path"
   ]
  },
  {
   "cell_type": "markdown",
   "metadata": {},
   "source": [
    "# Chargement des données"
   ]
  },
  {
   "cell_type": "code",
   "execution_count": 3,
   "metadata": {},
   "outputs": [],
   "source": [
    "# Récupération des données d'entrainement et de test\n",
    "(x_train, y_train), (x_test, y_test) = cifar10.load_data()"
   ]
  },
  {
   "cell_type": "code",
   "execution_count": 4,
   "metadata": {},
   "outputs": [
    {
     "data": {
      "text/plain": [
       "((50000, 32, 32, 3), (50000, 1), (10000, 32, 32, 3), (10000, 1))"
      ]
     },
     "execution_count": 4,
     "metadata": {},
     "output_type": "execute_result"
    }
   ],
   "source": [
    "# affichage des formes de nos données\n",
    "x_train.shape , y_train.shape, x_test.shape, y_test.shape"
   ]
  },
  {
   "cell_type": "code",
   "execution_count": 5,
   "metadata": {},
   "outputs": [
    {
     "name": "stdout",
     "output_type": "stream",
     "text": [
      "Première image est de la forme :  (32, 32, 3)\n",
      "Première image est du type  :  uint8\n",
      "Interval des valeurs d' une image : [ 0 , 255 ]\n"
     ]
    }
   ],
   "source": [
    "# Affichage d'une image, sa forme, et son type\n",
    "print('Première image est de la forme : ',x_train[0].shape)\n",
    "print('Première image est du type  : ',x_train[0].dtype)\n",
    "print('Interval des valeurs d\\' une image : [',x_train[0].min(),',',x_train[0].max(),']')"
   ]
  },
  {
   "cell_type": "code",
   "execution_count": 6,
   "metadata": {},
   "outputs": [
    {
     "data": {
      "text/plain": [
       "Text(0.5, 1.0, 'Affichage première image')"
      ]
     },
     "execution_count": 6,
     "metadata": {},
     "output_type": "execute_result"
    },
    {
     "data": {
      "image/png": "[encoded data removed]",
      "text/plain": [
       "<Figure size 432x288 with 1 Axes>"
      ]
     },
     "metadata": {
      "needs_background": "light"
     },
     "output_type": "display_data"
    }
   ],
   "source": [
    "# affichage d'une image\n",
    "plt.imshow(x_train[0])\n",
    "plt.title('Affichage première image')"
   ]
  },
  {
   "cell_type": "markdown",
   "metadata": {},
   "source": [
    "* Nous voyons ici nos données d’entraînement sont de 50000 images, de 32x32 pixels, de 3 couches de couleurs RGB, en forme matricielle.\n",
    "* Les labels qui leurs sont associés, sont des vecteurs de 50000 éléments.\n",
    "* Une image est de type uint8, dont les valeurs des pixels sont entre 0 et 255.\n",
    "* De même pour les données de Test."
   ]
  },
  {
   "cell_type": "markdown",
   "metadata": {},
   "source": [
    "# Normalisation des données "
   ]
  },
  {
   "cell_type": "code",
   "execution_count": 7,
   "metadata": {},
   "outputs": [
    {
     "data": {
      "text/plain": [
       "((50000, 32, 32, 3), (50000, 10), (10000, 32, 32, 3), (10000, 10))"
      ]
     },
     "execution_count": 7,
     "metadata": {},
     "output_type": "execute_result"
    }
   ],
   "source": [
    "# Mettre les données d'Entraînement et de Test sous la forme adéquate à notre modèle d'extraction de caractéristiques \n",
    "x_train = vgg16.preprocess_input(x_train)\n",
    "x_test = vgg16.preprocess_input(x_test)\n",
    "# Mettre les Étiquettes sous la forme adéquate\n",
    "y_train = to_categorical(y_train,10)\n",
    "y_test = to_categorical(y_test,10)\n",
    "\n",
    "x_train.shape , y_train.shape, x_test.shape, y_test.shape"
   ]
  },
  {
   "cell_type": "code",
   "execution_count": 8,
   "metadata": {},
   "outputs": [
    {
     "name": "stdout",
     "output_type": "stream",
     "text": [
      "Première image est de la forme :  (32, 32, 3)\n",
      "Première image est du type  :  float32\n",
      "Interval des valeurs d' une image : [ -123.68 , 136.22101 ]\n"
     ]
    }
   ],
   "source": [
    "# Affichage d'une image, sa forme, et son type après la normalisation\n",
    "print('Première image est de la forme : ',x_train[0].shape)\n",
    "print('Première image est du type  : ',x_train[0].dtype)\n",
    "print('Interval des valeurs d\\' une image : [',x_train[0].min(),',',x_train[0].max(),']')"
   ]
  },
  {
   "cell_type": "markdown",
   "metadata": {},
   "source": [
    "Nous voyons ici que les données des images sont transformées en forme adéquate :\n",
    "* Type : float32\n",
    "* Intervalle de valeurs négative et positives\n",
    "\n",
    "Et ceci car le VGG16 effectue des opérations sur des valeurs qui doivent être de cette forme."
   ]
  },
  {
   "cell_type": "markdown",
   "metadata": {},
   "source": [
    "# Chargement du modèle d'extraction de caractéristiques "
   ]
  },
  {
   "cell_type": "code",
   "execution_count": 9,
   "metadata": {},
   "outputs": [],
   "source": [
    "# Chargement du modèle RNA pré-entrainé sans la couche de prédiction\n",
    "features_extraction_model = vgg16.VGG16(weights='imagenet', include_top=False,input_shape=(32,32,3))"
   ]
  },
  {
   "cell_type": "code",
   "execution_count": 33,
   "metadata": {},
   "outputs": [
    {
     "name": "stdout",
     "output_type": "stream",
     "text": [
      "Model: \"vgg16\"\n",
      "_________________________________________________________________\n",
      "Layer (type)                 Output Shape              Param #   \n",
      "=================================================================\n",
      "input_1 (InputLayer)         [(None, 32, 32, 3)]       0         \n",
      "_________________________________________________________________\n",
      "block1_conv1 (Conv2D)        (None, 32, 32, 64)        1792      \n",
      "_________________________________________________________________\n",
      "block1_conv2 (Conv2D)        (None, 32, 32, 64)        36928     \n",
      "_________________________________________________________________\n",
      "block1_pool (MaxPooling2D)   (None, 16, 16, 64)        0         \n",
      "_________________________________________________________________\n",
      "block2_conv1 (Conv2D)        (None, 16, 16, 128)       73856     \n",
      "_________________________________________________________________\n",
      "block2_conv2 (Conv2D)        (None, 16, 16, 128)       147584    \n",
      "_________________________________________________________________\n",
      "block2_pool (MaxPooling2D)   (None, 8, 8, 128)         0         \n",
      "_________________________________________________________________\n",
      "block3_conv1 (Conv2D)        (None, 8, 8, 256)         295168    \n",
      "_________________________________________________________________\n",
      "block3_conv2 (Conv2D)        (None, 8, 8, 256)         590080    \n",
      "_________________________________________________________________\n",
      "block3_conv3 (Conv2D)        (None, 8, 8, 256)         590080    \n",
      "_________________________________________________________________\n",
      "block3_pool (MaxPooling2D)   (None, 4, 4, 256)         0         \n",
      "_________________________________________________________________\n",
      "block4_conv1 (Conv2D)        (None, 4, 4, 512)         1180160   \n",
      "_________________________________________________________________\n",
      "block4_conv2 (Conv2D)        (None, 4, 4, 512)         2359808   \n",
      "_________________________________________________________________\n",
      "block4_conv3 (Conv2D)        (None, 4, 4, 512)         2359808   \n",
      "_________________________________________________________________\n",
      "block4_pool (MaxPooling2D)   (None, 2, 2, 512)         0         \n",
      "_________________________________________________________________\n",
      "block5_conv1 (Conv2D)        (None, 2, 2, 512)         2359808   \n",
      "_________________________________________________________________\n",
      "block5_conv2 (Conv2D)        (None, 2, 2, 512)         2359808   \n",
      "_________________________________________________________________\n",
      "block5_conv3 (Conv2D)        (None, 2, 2, 512)         2359808   \n",
      "_________________________________________________________________\n",
      "block5_pool (MaxPooling2D)   (None, 1, 1, 512)         0         \n",
      "=================================================================\n",
      "Total params: 14,714,688\n",
      "Trainable params: 14,714,688\n",
      "Non-trainable params: 0\n",
      "_________________________________________________________________\n"
     ]
    }
   ],
   "source": [
    "# Affichage de la structure de notre modèle \n",
    "features_extraction_model.summary()"
   ]
  },
  {
   "cell_type": "markdown",
   "metadata": {},
   "source": [
    "# Extraction de caractéristiques \n",
    "Nous allons maintenant effectuer l'extraction de caractéristiques sur nos données en utilisant notre modèle d'extraction."
   ]
  },
  {
   "cell_type": "code",
   "execution_count": 34,
   "metadata": {},
   "outputs": [],
   "source": [
    "# Extraction de caract. à partir des données d’entraînement \n",
    "x_features_train = features_extraction_model.predict(x_train)\n",
    "# Extraction de caract. à partir des données de test\n",
    "x_features_test = features_extraction_model.predict(x_test)"
   ]
  },
  {
   "cell_type": "code",
   "execution_count": 38,
   "metadata": {},
   "outputs": [
    {
     "name": "stdout",
     "output_type": "stream",
     "text": [
      "Caractéristiques de la forme :  (1, 1, 512)\n",
      "Caractéristiques  du type  :  float32\n",
      "Interval des valeurs des Caractéristiques : [ 0.0 , 122.61726 ]\n"
     ]
    }
   ],
   "source": [
    "# Affichage des caractéristiques d'une image, sa forme, et son type \n",
    "print('Caractéristiques de la forme : ',x_features_train[0].shape)\n",
    "print('Caractéristiques  du type  : ',x_features_train[0].dtype)\n",
    "print('Interval des valeurs des Caractéristiques : [',x_features_train[0].min(),',',x_features_train[0].max(),']')"
   ]
  },
  {
   "cell_type": "markdown",
   "metadata": {},
   "source": [
    "Nous voyons maintenant nos caractéristiques obtenus par notre dataset, les caractéristiques extraites d'une image :\n",
    "* Sont un vecteur de 512 valeurs,\n",
    "* Sont de type float32,\n",
    "* Sont dans un intervalle positif."
   ]
  },
  {
   "cell_type": "markdown",
   "metadata": {},
   "source": [
    "# Sauvegarde de Données\n",
    "Nous allons maintenant sauvgarder nos caractéristiques extraites, pour les utiliser plus tard."
   ]
  },
  {
   "cell_type": "code",
   "execution_count": 39,
   "metadata": {},
   "outputs": [
    {
     "data": {
      "text/plain": [
       "['y_test.dat']"
      ]
     },
     "execution_count": 39,
     "metadata": {},
     "output_type": "execute_result"
    }
   ],
   "source": [
    "# Sauvegarder les tableaux de caractéristiques extraites dans un fichier\n",
    "joblib.dump(x_features_train, \"x_features_train.dat\")\n",
    "joblib.dump(x_features_test, \"x_features_test.dat\")\n",
    "\n",
    "# Sauvegarder les étiquettes\n",
    "joblib.dump(y_train, \"y_train.dat\")\n",
    "joblib.dump(y_test, \"y_test.dat\")"
   ]
  },
  {
   "cell_type": "code",
   "execution_count": 16,
   "metadata": {},
   "outputs": [],
   "source": [
    "# Enregistrer la structure du réseau\n",
    "model_extraction_features = features_extraction_model.to_json()\n",
    "f = Path(\"model_extr_feat_structure.json\")\n",
    "f.write_text(model_extraction_features)\n",
    "\n",
    "# Sauvegarde des poids appris par le réseau\n",
    "features_extraction_model.save_weights(\"model_extr_feat_structure_weights.h5\")"
   ]
  }
 ],
 "metadata": {
  "environment": {
   "name": "common-cpu.m49",
   "type": "gcloud",
   "uri": "gcr.io/deeplearning-platform-release/base-cpu:m49"
  },
  "kernelspec": {
   "display_name": "Python 3",
   "language": "python",
   "name": "python3"
  },
  "language_info": {
   "codemirror_mode": {
    "name": "ipython",
    "version": 3
   },
   "file_extension": ".py",
   "mimetype": "text/x-python",
   "name": "python",
   "nbconvert_exporter": "python",
   "pygments_lexer": "ipython3",
   "version": "3.7.10"
  }
 },
 "nbformat": 4,
 "nbformat_minor": 4
}
