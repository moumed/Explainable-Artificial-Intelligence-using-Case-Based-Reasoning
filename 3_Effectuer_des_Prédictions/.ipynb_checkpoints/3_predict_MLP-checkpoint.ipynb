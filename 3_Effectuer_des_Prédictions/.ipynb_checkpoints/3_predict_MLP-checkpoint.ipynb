{
 "cells": [
  {
   "cell_type": "markdown",
   "metadata": {},
   "source": [
    "# Importation des bibliothèques "
   ]
  },
  {
   "cell_type": "code",
   "execution_count": 1,
   "metadata": {},
   "outputs": [],
   "source": [
    "from keras.models import model_from_json\n",
    "from pathlib import Path\n",
    "from keras.preprocessing import image\n",
    "import numpy as np\n",
    "from keras.applications import vgg16\n",
    "import matplotlib.pyplot as plt"
   ]
  },
  {
   "cell_type": "markdown",
   "metadata": {},
   "source": [
    "# Chargement du MLP Entraîné"
   ]
  },
  {
   "cell_type": "code",
   "execution_count": 2,
   "metadata": {},
   "outputs": [],
   "source": [
    "# Chargement du fichier json contenant la structure du modèle \n",
    "f = Path('../2_Cration_MLP/mlp_structure.json')\n",
    "mlp_structure = f.read_text()"
   ]
  },
  {
   "cell_type": "code",
   "execution_count": 3,
   "metadata": {},
   "outputs": [],
   "source": [
    "# Recréer l'objet du  model Keras à partir des données json\n",
    "mlp = model_from_json(mlp_structure)"
   ]
  },
  {
   "cell_type": "code",
   "execution_count": 4,
   "metadata": {},
   "outputs": [],
   "source": [
    "# Recharger les poids entraînés du model\n",
    "mlp.load_weights(\"../2_Cration_MLP/mlp_weights.h5\")"
   ]
  },
  {
   "cell_type": "markdown",
   "metadata": {},
   "source": [
    "# Tester la prédiction"
   ]
  },
  {
   "cell_type": "code",
   "execution_count": 5,
   "metadata": {},
   "outputs": [],
   "source": [
    "# Définir les labels de classes CIFAR10 des données de formation (dans l'ordre de 0 à 9)\n",
    "class_labels = [\n",
    "    \"Avion\",\n",
    "    \"Voiture\",\n",
    "    \"Oiseau\",\n",
    "    \"Chat\",\n",
    "    \"Cerf\",\n",
    "    \"Chien\",\n",
    "    \"Grenouille\",\n",
    "    \"Cheval\",\n",
    "    \"Bateau\",\n",
    "    \"Camion\"\n",
    "]"
   ]
  },
  {
   "cell_type": "code",
   "execution_count": 7,
   "metadata": {},
   "outputs": [
    {
     "data": {
      "text/plain": [
       "<function matplotlib.pyplot.show(*args, **kw)>"
      ]
     },
     "execution_count": 7,
     "metadata": {},
     "output_type": "execute_result"
    },
    {
     "data": {
      "image/png": "[encoded data removed]",
      "text/plain": [
       "<Figure size 432x288 with 1 Axes>"
      ]
     },
     "metadata": {
      "needs_background": "light"
     },
     "output_type": "display_data"
    }
   ],
   "source": [
    "# redimensionner l'image à 32x32 pixels comme requis par le modèle\n",
    "img = image.load_img(\"../my_images/c.jpg\", target_size=(32,32))\n",
    "# Convertir l'image en un tableau numérique (NumPy)\n",
    "image_array = image.img_to_array(img)\n",
    "# Ajouter une quatrième dimension à l'image (puisque Keras s'attend à un ensemble d'images, pas une seule)\n",
    "images = np.expand_dims(image_array, axis=0)\n",
    "# Normaliser les données \n",
    "images = vgg16.preprocess_input(images)\n",
    "# Utiliser le réseau de neurones VGG16 pour extraire des caractéristiques de notre image de test (de la même manière que pour l'entraînement du modèle)\n",
    "feature_extraction_model = vgg16.VGG16(weights='imagenet', include_top=False, input_shape=(32, 32, 3))\n",
    "features = feature_extraction_model.predict(images)\n",
    "# Afficher l'image à prédire\n",
    "plt.imshow(img)\n",
    "plt.show"
   ]
  },
  {
   "cell_type": "code",
   "execution_count": 8,
   "metadata": {},
   "outputs": [
    {
     "name": "stdout",
     "output_type": "stream",
     "text": [
      "La prédiction de Avion - Probabilité: 0.000026\n",
      "La prédiction de Voiture - Probabilité: 0.993633\n",
      "La prédiction de Oiseau - Probabilité: 0.000000\n",
      "La prédiction de Chat - Probabilité: 0.000417\n",
      "La prédiction de Cerf - Probabilité: 0.000000\n",
      "La prédiction de Chien - Probabilité: 0.000000\n",
      "La prédiction de Grenouille - Probabilité: 0.000309\n",
      "La prédiction de Cheval - Probabilité: 0.000000\n",
      "La prédiction de Bateau - Probabilité: 0.000003\n",
      "La prédiction de Camion - Probabilité: 0.005611\n",
      "\n",
      " Cette image est Voiture - Probabilité: 0.993633\n"
     ]
    }
   ],
   "source": [
    "# Compte tenu des caractéristiques extraites, on fait une prédiction finale en utilisant notre propre modèle\n",
    "results = mlp.predict(features)\n",
    "\n",
    "#results[0]\n",
    "\n",
    "single_result = results[0]\n",
    "for i in range(10):\n",
    "    print(\"La prédiction de {} - Probabilité: {:2f}\".format(class_labels[i], results[0][i]))\n",
    "#Find the index of the class with the highest prediction\n",
    "most_likely_class_index = int(np.argmax(single_result))\n",
    "#Trouvez l'indice de la classe avec la plus haute prédiction\n",
    "class_prediction = single_result[most_likely_class_index]\n",
    "#Obtenir le nom du label de classe\n",
    "class_label = class_labels[most_likely_class_index]\n",
    "print(\"\\n Cette image est {} - Probabilité: {:2f}\".format(class_label, class_prediction))"
   ]
  },
  {
   "cell_type": "markdown",
   "metadata": {},
   "source": [
    "Nous remarquons que notre réseau a réussi à faire une bonne prédiction sur de nouvelles données qui n’apparaissent pas son ensemble d’entraînement avec une grand probabilité. "
   ]
  }
 ],
 "metadata": {
  "environment": {
   "name": "common-cpu.m49",
   "type": "gcloud",
   "uri": "gcr.io/deeplearning-platform-release/base-cpu:m49"
  },
  "kernelspec": {
   "display_name": "Python 3",
   "language": "python",
   "name": "python3"
  },
  "language_info": {
   "codemirror_mode": {
    "name": "ipython",
    "version": 3
   },
   "file_extension": ".py",
   "mimetype": "text/x-python",
   "name": "python",
   "nbconvert_exporter": "python",
   "pygments_lexer": "ipython3",
   "version": "3.6.12"
  }
 },
 "nbformat": 4,
 "nbformat_minor": 4
}
