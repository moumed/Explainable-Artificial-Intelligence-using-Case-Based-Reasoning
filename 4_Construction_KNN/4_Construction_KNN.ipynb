{
 "cells": [
  {
   "cell_type": "markdown",
   "metadata": {},
   "source": [
    "# Importation des Bibliothèques"
   ]
  },
  {
   "cell_type": "code",
   "execution_count": 101,
   "metadata": {},
   "outputs": [],
   "source": [
    "import keras\n",
    "import sklearn\n",
    "from sklearn.model_selection import GridSearchCV\n",
    "from sklearn import neighbors, metrics, preprocessing\n",
    "from sklearn.neighbors import KNeighborsClassifier\n",
    "from sklearn.model_selection import train_test_split\n",
    "from sklearn.metrics import classification_report, accuracy_score, confusion_matrix, roc_auc_score\n",
    "from sklearn.metrics import plot_confusion_matrix\n",
    "import joblib\n",
    "from pathlib import Path\n",
    "import matplotlib.pyplot as plt\n",
    "import numpy as np\n",
    "import pandas as pd\n",
    "import seaborn as sns"
   ]
  },
  {
   "cell_type": "markdown",
   "metadata": {},
   "source": [
    "# Chargement des Caractéristiques déja Extraites\n",
    "Ici nous allons utilisé les mêmes caractéristiques extraites pour entraîner notre KNN"
   ]
  },
  {
   "cell_type": "code",
   "execution_count": 2,
   "metadata": {},
   "outputs": [],
   "source": [
    "# Chargement caractéristiques \n",
    "x_features_train = joblib.load(\"../1_Extraction_de_Carct/x_features_train.dat\")\n",
    "y_train = joblib.load(\"../1_Extraction_de_Carct/y_train.dat\")\n",
    "x_features_test = joblib.load(\"../1_Extraction_de_Carct/x_features_test.dat\")\n",
    "y_test = joblib.load(\"../1_Extraction_de_Carct/y_test.dat\")"
   ]
  },
  {
   "cell_type": "code",
   "execution_count": 3,
   "metadata": {},
   "outputs": [
    {
     "data": {
      "text/plain": [
       "((50000, 1, 1, 512), (50000, 10), (10000, 1, 1, 512), (10000, 10))"
      ]
     },
     "execution_count": 3,
     "metadata": {},
     "output_type": "execute_result"
    }
   ],
   "source": [
    "# Afficher les formes de données\n",
    "x_features_train.shape, y_train.shape,x_features_test.shape,y_test.shape"
   ]
  },
  {
   "cell_type": "markdown",
   "metadata": {},
   "source": [
    "# Réglages des hyper-paramètres du KNN\n",
    "Nous allons ici tester et trouver les meilleurs paramètres du KNN pour obtenir une bonne précision"
   ]
  },
  {
   "cell_type": "code",
   "execution_count": 67,
   "metadata": {},
   "outputs": [],
   "source": [
    "# Division des données pour accélérer nos traitements de recherche de bons paramètres \n",
    "(x_tr,x_tst,y_tr,y_tst)= train_test_split(\n",
    "    x_features_train, \n",
    "    y_train, \n",
    "    test_size=3000,\n",
    "    train_size=5000)"
   ]
  },
  {
   "cell_type": "code",
   "execution_count": 68,
   "metadata": {},
   "outputs": [
    {
     "data": {
      "text/plain": [
       "((5000, 1, 1, 512), (5000, 10), (3000, 1, 1, 512), (3000, 10))"
      ]
     },
     "execution_count": 68,
     "metadata": {},
     "output_type": "execute_result"
    }
   ],
   "source": [
    "# Affichage des formes de nouvelles données\n",
    "x_tr.shape, y_tr.shape,x_tst.shape,y_tst.shape"
   ]
  },
  {
   "cell_type": "markdown",
   "metadata": {},
   "source": [
    "Ici nous allons utiliser 5000 données d’entraînement et 3000 données pour le test"
   ]
  },
  {
   "cell_type": "code",
   "execution_count": 69,
   "metadata": {},
   "outputs": [
    {
     "name": "stdout",
     "output_type": "stream",
     "text": [
      "Nombre d'éléments d'Entraînement par classe :  [[505. 464. 531. 509. 472. 553. 491. 494. 508. 473.]]\n"
     ]
    }
   ],
   "source": [
    "# nous allons vérifier la bonne distribution de nos classes D’entraînement \n",
    "classes_list = np.zeros((1,10))\n",
    "for i in range(y_tr.shape[0]):\n",
    "    class_index = np.argwhere(y_tr[i]!=0)\n",
    "    classes_list[0,class_index] = classes_list[0,class_index] + 1\n",
    "print('Nombre d\\'éléments d\\'Entraînement par classe : ',classes_list)"
   ]
  },
  {
   "cell_type": "code",
   "execution_count": 70,
   "metadata": {},
   "outputs": [
    {
     "name": "stdout",
     "output_type": "stream",
     "text": [
      "Nombre d'éléments de Tests par classe :  [[308. 319. 294. 284. 309. 300. 328. 289. 293. 276.]]\n"
     ]
    }
   ],
   "source": [
    "# nous allons vérifier la bonne distribution de nos classes de Test\n",
    "classes_list = np.zeros((1,10))\n",
    "for i in range(y_tst.shape[0]):\n",
    "    class_index = np.argwhere(y_tst[i]!=0)\n",
    "    classes_list[0,class_index] = classes_list[0,class_index] + 1\n",
    "print('Nombre d\\'éléments de Tests par classe : ',classes_list)"
   ]
  },
  {
   "cell_type": "markdown",
   "metadata": {},
   "source": [
    "Nous remarquons que nos données sont bien distribuées, cad environs de 500 éléments d’entraînement par classe et 300 éléments de test par classe."
   ]
  },
  {
   "cell_type": "code",
   "execution_count": 72,
   "metadata": {},
   "outputs": [],
   "source": [
    "# Normalisation des données \n",
    "x_tr = x_tr.reshape(5000,1*1*512)\n",
    "x_tst = x_tst.reshape(3000,1*1*512)"
   ]
  },
  {
   "cell_type": "code",
   "execution_count": 73,
   "metadata": {},
   "outputs": [
    {
     "name": "stdout",
     "output_type": "stream",
     "text": [
      "Fitting 5 folds for each of 80 candidates, totalling 400 fits\n"
     ]
    },
    {
     "name": "stderr",
     "output_type": "stream",
     "text": [
      "[Parallel(n_jobs=-1)]: Using backend LokyBackend with 4 concurrent workers.\n",
      "[Parallel(n_jobs=-1)]: Done  42 tasks      | elapsed:  1.3min\n",
      "[Parallel(n_jobs=-1)]: Done 192 tasks      | elapsed:  4.9min\n",
      "[Parallel(n_jobs=-1)]: Done 400 out of 400 | elapsed:  8.6min finished\n"
     ]
    }
   ],
   "source": [
    "#Réglages des hyper-paramètres \n",
    "params = {'n_neighbors':[3,2,1,4,5],\n",
    "          'weights':['distance','uniform'],\n",
    "          'algorithm':['kd_tree', 'ball_tree','auto','brute'],\n",
    "           'metric':['euclidean','manhattan']}\n",
    "#Construcion d'un model qui cherchera les meilleurs hyperparametres\n",
    "grid_search_cv= GridSearchCV(KNeighborsClassifier(), param_grid=params, n_jobs=-1,verbose=1)\n",
    "gs_results = grid_search_cv.fit(x_tr,y_tr)"
   ]
  },
  {
   "cell_type": "code",
   "execution_count": 76,
   "metadata": {},
   "outputs": [
    {
     "name": "stdout",
     "output_type": "stream",
     "text": [
      "Les meilleurs hype-paramètres sont : \n",
      " {'algorithm': 'kd_tree', 'metric': 'manhattan', 'n_neighbors': 2, 'weights': 'distance'}\n"
     ]
    }
   ],
   "source": [
    "#Afficher les meilleurs paramètres \n",
    "print(\"Les meilleurs hype-paramètres sont : \\n\",gs_results.best_params_)"
   ]
  },
  {
   "cell_type": "markdown",
   "metadata": {},
   "source": [
    "# Création du KNN à base des Paramètres trouvés"
   ]
  },
  {
   "cell_type": "code",
   "execution_count": 82,
   "metadata": {},
   "outputs": [],
   "source": [
    "# Création de l'objet KNN\n",
    "KNN = KNeighborsClassifier(algorithm='kd_tree',metric='manhattan',n_neighbors=2,weights='distance')"
   ]
  },
  {
   "cell_type": "code",
   "execution_count": 85,
   "metadata": {},
   "outputs": [],
   "source": [
    "# Normalisation des données \n",
    "x_features_train = x_features_train.reshape(50000,1*1*512)\n",
    "x_features_test = x_features_test.reshape(10000,1*1*512)"
   ]
  },
  {
   "cell_type": "code",
   "execution_count": 86,
   "metadata": {},
   "outputs": [
    {
     "data": {
      "text/plain": [
       "KNeighborsClassifier(algorithm='kd_tree', metric='manhattan', n_neighbors=2,\n",
       "                     weights='distance')"
      ]
     },
     "execution_count": 86,
     "metadata": {},
     "output_type": "execute_result"
    }
   ],
   "source": [
    "# Entrainement du KNN à base de la totalité de nos caractéristiques extraites\n",
    "KNN.fit(x_features_train,y_train)"
   ]
  },
  {
   "cell_type": "markdown",
   "metadata": {},
   "source": [
    "# Vérification des l'état d'entrainement"
   ]
  },
  {
   "cell_type": "code",
   "execution_count": 87,
   "metadata": {},
   "outputs": [],
   "source": [
    "# Récupération des prédictions\n",
    "knn_prediction = KNN.predict(x_features_test)"
   ]
  },
  {
   "cell_type": "code",
   "execution_count": 95,
   "metadata": {},
   "outputs": [
    {
     "name": "stdout",
     "output_type": "stream",
     "text": [
      "Rapport de classification : \n",
      "               precision    recall  f1-score   support\n",
      "\n",
      "       Avion       0.64      0.65      0.65      1000\n",
      "     Voiture       0.61      0.67      0.64      1000\n",
      "      Oiseau       0.47      0.47      0.47      1000\n",
      "        Chat       0.43      0.34      0.38      1000\n",
      "        Cerf       0.46      0.48      0.47      1000\n",
      "       Chien       0.49      0.49      0.49      1000\n",
      "  Grenouille       0.55      0.62      0.58      1000\n",
      "      Cheval       0.57      0.57      0.57      1000\n",
      "      Bateau       0.66      0.57      0.61      1000\n",
      "      Camion       0.56      0.59      0.57      1000\n",
      "\n",
      "   micro avg       0.54      0.54      0.54     10000\n",
      "   macro avg       0.54      0.54      0.54     10000\n",
      "weighted avg       0.54      0.54      0.54     10000\n",
      " samples avg       0.54      0.54      0.54     10000\n",
      "\n"
     ]
    }
   ],
   "source": [
    "class_labels = [\n",
    "    \"Avion\",\n",
    "    \"Voiture\",\n",
    "    \"Oiseau\",\n",
    "    \"Chat\",\n",
    "    \"Cerf\",\n",
    "    \"Chien\",\n",
    "    \"Grenouille\",\n",
    "    \"Cheval\",\n",
    "    \"Bateau\",\n",
    "    \"Camion\"\n",
    "]\n",
    "#Rapport de classification\n",
    "print('Rapport de classification : \\n',classification_report(y_test, knn_prediction,target_names=class_labels))\n"
   ]
  },
  {
   "cell_type": "code",
   "execution_count": 92,
   "metadata": {},
   "outputs": [
    {
     "name": "stdout",
     "output_type": "stream",
     "text": [
      "Score ROC AUC =  0.7469444444444444\n"
     ]
    }
   ],
   "source": [
    "# Score Aire sous la courbe (ROC_AUC)\n",
    "print('Score ROC AUC = ',roc_auc_score(y_test,knn_prediction))"
   ]
  },
  {
   "cell_type": "code",
   "execution_count": 128,
   "metadata": {},
   "outputs": [
    {
     "data": {
      "image/png": "[encoded data removed]",
      "text/plain": [
       "<Figure size 864x792 with 2 Axes>"
      ]
     },
     "metadata": {
      "needs_background": "light"
     },
     "output_type": "display_data"
    }
   ],
   "source": [
    "#Matrice de confusion\n",
    "cm=confusion_matrix(knn_prediction.argmax(axis=1),y_test.argmax(axis=1))\n",
    "#Affichage\n",
    "plt.figure(figsize=(12,11))\n",
    "ax= plt.subplot()\n",
    "sns.heatmap(cm, annot=True, ax = ax); #annot=True to annotate cells\n",
    "\n",
    "# classes, titre et Tickets\n",
    "ax.set_xlabel('Classes Prédites');ax.set_ylabel('Noms Classes'); \n",
    "ax.set_title('Confusion Matrix'); \n",
    "ax.xaxis.set_ticklabels(class_labels); ax.yaxis.set_ticklabels(class_labels);"
   ]
  },
  {
   "cell_type": "markdown",
   "metadata": {},
   "source": [
    "# Sauvegarde des données"
   ]
  },
  {
   "cell_type": "code",
   "execution_count": 129,
   "metadata": {},
   "outputs": [
    {
     "data": {
      "text/plain": [
       "['knn_predictions.dat']"
      ]
     },
     "execution_count": 129,
     "metadata": {},
     "output_type": "execute_result"
    }
   ],
   "source": [
    "#Sauvegarde du KNN\n",
    "joblib.dump(KNN, 'KNN.pkl')\n",
    "# Sauvegarde des prédictions du KNN \n",
    "joblib.dump(knn_prediction, \"knn_predictions.dat\")"
   ]
  }
 ],
 "metadata": {
  "environment": {
   "name": "common-cpu.m49",
   "type": "gcloud",
   "uri": "gcr.io/deeplearning-platform-release/base-cpu:m49"
  },
  "kernelspec": {
   "display_name": "Python 3",
   "language": "python",
   "name": "python3"
  },
  "language_info": {
   "codemirror_mode": {
    "name": "ipython",
    "version": 3
   },
   "file_extension": ".py",
   "mimetype": "text/x-python",
   "name": "python",
   "nbconvert_exporter": "python",
   "pygments_lexer": "ipython3",
   "version": "3.7.7"
  }
 },
 "nbformat": 4,
 "nbformat_minor": 4
}
